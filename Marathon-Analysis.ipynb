{
 "cells": [
  {
   "cell_type": "code",
   "execution_count": 46,
   "id": "aa3605de",
   "metadata": {},
   "outputs": [],
   "source": [
    "from selenium import webdriver\n",
    "from selenium.webdriver.common.by import By\n",
    "from bs4 import BeautifulSoup\n",
    "import time"
   ]
  },
  {
   "cell_type": "code",
   "execution_count": 47,
   "id": "bba88015",
   "metadata": {},
   "outputs": [],
   "source": [
    "url = \"https://results.nyrr.org/event/M2024/finishers\"\n",
    "driver = webdriver.Chrome()\n",
    "driver.get(url)\n",
    "time.sleep(4)\n",
    "content = driver.page_source  \n",
    "driver.quit()"
   ]
  },
  {
   "cell_type": "code",
   "execution_count": 56,
   "id": "844961fa",
   "metadata": {
    "scrolled": true
   },
   "outputs": [],
   "source": [
    "soup = BeautifulSoup(content, 'html.parser')\n",
    "pretty_html = soup.prettify()"
   ]
  },
  {
   "cell_type": "code",
   "execution_count": 65,
   "id": "5a738264",
   "metadata": {
    "scrolled": true
   },
   "outputs": [
    {
     "name": "stdout",
     "output_type": "stream",
     "text": [
      "<div class=\"row rms-grid-item\" ng-class=\"{ 'narrow' : layoutScope.isGridRowNarrow &amp;&amp; layoutScope.isDesktopView }\" ng-click=\"openRunnerResults(eventCode, eventFinisher.bib)\">\n",
      "<div class=\"col-xs-4 col-sm-4 col-md-6 h-100\" style=\"padding-right: 0;\">\n",
      "<div class=\"name rms-grid-line ng-binding\">\n",
      "                                Abdi Nageeye\n",
      "                            </div>\n",
      "<div class=\"details rms-grid-line\">\n",
      "<!-- ngIf: eventFinisher.gender || eventFinisher.age --><span class=\"ng-binding ng-scope\" ng-if=\"eventFinisher.gender || eventFinisher.age\">M35</span><!-- end ngIf: eventFinisher.gender || eventFinisher.age -->\n",
      "<!-- ngIf: eventFinisher.city && eventFinisher.showUsa -->\n",
      "<!-- ngIf: eventFinisher.stateProvince && eventFinisher.showUsa -->\n",
      "<!-- ngIf: eventFinisher.countryCode && !eventFinisher.iaaf -->\n",
      "<!-- ngIf: eventFinisher.iaaf --><span class=\"ng-binding ng-scope\" ng-if=\"eventFinisher.iaaf\">NED</span><!-- end ngIf: eventFinisher.iaaf -->\n",
      "<!-- ngIf: eventFinisher.bib --><span class=\"left-bordered ng-scope\" ng-if=\"eventFinisher.bib\">Bib <span class=\"num ng-binding\">7</span></span><!-- end ngIf: eventFinisher.bib -->\n",
      "</div>\n",
      "</div>\n",
      "<div class=\"col-xs-8 col-sm-8 col-md-6\">\n",
      "<span class=\"result right-floated-item info-link\"><a href=\"#\">Info</a></span>\n",
      "<span class=\"result right-floated-item long-text\">Time<span class=\"num ng-binding\">2:07:39</span></span>\n",
      "<span class=\"result right-floated-item short-text\">Pace<span class=\"num ng-binding\">04:53</span></span>\n",
      "<span class=\"result right-floated-item mid-text\">Place<span class=\"num ng-binding\">1</span></span>\n",
      "</div>\n",
      "</div>\n"
     ]
    }
   ],
   "source": [
    "results = soup.find_all(\"div\", class_=\"row rms-grid-item\")\n",
    "print(results[0])\n",
    "\n"
   ]
  }
 ],
 "metadata": {
  "kernelspec": {
   "display_name": "Python 3 (ipykernel)",
   "language": "python",
   "name": "python3"
  },
  "language_info": {
   "codemirror_mode": {
    "name": "ipython",
    "version": 3
   },
   "file_extension": ".py",
   "mimetype": "text/x-python",
   "name": "python",
   "nbconvert_exporter": "python",
   "pygments_lexer": "ipython3",
   "version": "3.9.13"
  }
 },
 "nbformat": 4,
 "nbformat_minor": 5
}
